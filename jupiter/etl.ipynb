{
 "cells": [
  {
   "cell_type": "markdown",
   "metadata": {},
   "source": [
    "# ETL реализованный с помощью Spark\n",
    "### Выполнил *Юрков Евгений М8О-312Б-22*"
   ]
  },
  {
   "cell_type": "code",
   "execution_count": 76,
   "metadata": {},
   "outputs": [],
   "source": [
    "from pyspark.sql import SparkSession\n",
    "\n",
    "spark = SparkSession.builder \\\n",
    "    .appName(\"ETL_Pipeline\") \\\n",
    "    .config(\"spark.jars.packages\",\n",
    "            \"org.postgresql:postgresql:42.2.27,\"\n",
    "            \"com.clickhouse:clickhouse-jdbc:0.4.6,\"\n",
    "            \"org.mongodb.spark:mongo-spark-connector_2.12:10.1.1\") \\\n",
    "    .getOrCreate()"
   ]
  },
  {
   "cell_type": "code",
   "execution_count": null,
   "metadata": {},
   "outputs": [],
   "source": [
    "jdbc_url = \"jdbc:postgresql://postgres:5432/abd_2\"\n",
    "properties = {\n",
    "    \"user\": \"postgres\",\n",
    "    \"password\": \"Rbkkth3920\",\n",
    "    \"driver\": \"org.postgresql.Driver\"\n",
    "}"
   ]
  },
  {
   "cell_type": "code",
   "execution_count": null,
   "metadata": {},
   "outputs": [
    {
     "name": "stdout",
     "output_type": "stream",
     "text": [
      "+---+-------------------+------------------+------------+--------------------+------------------+--------------------+-----------------+-----------------+------------------+-----------------+----------------+--------------------+--------------+------------------+------------+----------------+-------------+----------------+----------+----------------+--------------+---------------+-------------+----------------+----------+--------------+------------+-----------+--------------------+------------+--------------------+------------+--------------+-------------+------------+-------------+----------------+--------------------+--------------+---------------+--------------------+-------------------+-------------+----------------+--------------------+--------------+----------------+------------------+----------------+\n",
      "| id|customer_first_name|customer_last_name|customer_age|      customer_email|  customer_country|customer_postal_code|customer_pet_type|customer_pet_name|customer_pet_breed|seller_first_name|seller_last_name|        seller_email|seller_country|seller_postal_code|product_name|product_category|product_price|product_quantity| sale_date|sale_customer_id|sale_seller_id|sale_product_id|sale_quantity|sale_total_price|store_name|store_location|  store_city|store_state|       store_country| store_phone|         store_email|pet_category|product_weight|product_color|product_size|product_brand|product_material| product_description|product_rating|product_reviews|product_release_date|product_expiry_date|supplier_name|supplier_contact|      supplier_email|supplier_phone|supplier_address|     supplier_city|supplier_country|\n",
      "+---+-------------------+------------------+------------+--------------------+------------------+--------------------+-----------------+-----------------+------------------+-----------------+----------------+--------------------+--------------+------------------+------------+----------------+-------------+----------------+----------+----------------+--------------+---------------+-------------+----------------+----------+--------------+------------+-----------+--------------------+------------+--------------------+------------+--------------+-------------+------------+-------------+----------------+--------------------+--------------+---------------+--------------------+-------------------+-------------+----------------+--------------------+--------------+----------------+------------------+----------------+\n",
      "|  1|             Barron|           Rawlyns|          61|bmassingham0@army...|             China|                    |              cat|        Priscella|Labrador Retriever|            Bevan|      Massingham|bmassingham0@answ...|     Indonesia|                  |    Dog Food|            Food|        77.97|              89| 5/14/2021|               1|             1|              1|            4|           487.7|   Youopia|      Suite 75|     Xichehe|           |       United States|564-244-8660|bmassingham0@netw...|        Cats|          13.4|       Indigo|      Medium|        Skajo|           Steel|Aliquam quis turp...|           2.1|             97|          10/19/2011|         10/21/2028|       Tagcat|Bevan Massingham|bmassingham0@unbl...|  914-877-7062|        Suite 25|            Kletek|           China|\n",
      "|  2|                Ham|          Knowller|          78|  cscudder1@time.com|            Poland|              73-115|             bird|          Dalenna|Labrador Retriever|          Candide|         Scudder|  cscudder1@xing.com|     Guatemala|             04015|     Cat Toy|            Food|         48.7|              73|11/13/2021|               2|             2|              2|           10|          484.61|  Fivespan|       Suite 1|      Dolice|           |           Lithuania|596-788-0321|cscudder1@behance...|        Cats|          36.3|        Khaki|       Small|    Wordpedia|      Plexiglass|Phasellus in feli...|           2.4|             37|           4/17/2019|          2/29/2028|     Livetube| Candide Scudder|cscudder1@sbwire.com|  863-319-5653|      18th Floor|Santa Cruz Balanyá|          Poland|\n",
      "|  3|           Farleigh|           Langley|          71|  vhuxter2@fotki.com|            Poland|              56-160|             bird|         Aldridge|          Parakeet|           Vinson|          Huxter|  vhuxter2@issuu.com|         China|                  |   Bird Cage|            Food|        77.75|              39| 12/4/2021|               3|             3|              3|            9|          144.24|    Avamba|      Suite 69|      Wińsko|           |        South Africa|148-671-4697|vhuxter2@marketwa...|        Fish|          14.6|        Khaki|      Medium|    Riffpedia|      Plexiglass|Maecenas leo odio...|           3.0|            218|            2/3/2010|           9/3/2023|     Photobug|   Vinson Huxter|  vhuxter2@slate.com|  434-817-1275|          Apt 96|           Huangpu|           Samoa|\n",
      "|  4|               Shae|           Debling|          28|bbullier3@bravesi...|         Sri Lanka|               81700|              cat|          Beverie|Labrador Retriever|             Bald|         Bullier|bbullier3@imagesh...|         China|                  |    Dog Food|            Food|        54.18|              68| 8/10/2021|               4|             4|              4|            4|          441.09|  Feedfish|      Suite 77|    Weligama|           |                Cuba|190-352-7524|bbullier3@infosee...|        Fish|          15.7|       Indigo|      Medium|    Flipstorm|         Granite|Nullam sit amet t...|           2.2|            959|           8/22/2019|          3/29/2026|        Janyx|    Bald Bullier|   bbullier3@dot.gov|  515-756-7392|      12th Floor|        Chengzhong|       Indonesia|\n",
      "|  5|                Lay|             Twatt|          25| sedgar4@smugmug.com|          Botswana|                    |             bird|          Sydelle|           Siamese|          Sydelle|           Edgar|   sedgar4@sogou.com|         China|                  |   Bird Cage|            Cage|        72.96|              23|  2/4/2021|               5|             5|              5|            6|           72.27|    Skimia|       Apt 112|   Mahalapye|           |         Philippines|364-385-6169|sedgar4@e-recht24.de|    Reptiles|          38.9|       Maroon|       Large|        Zazio|        Aluminum|Quisque id justo ...|           4.5|            130|           12/9/2018|          5/10/2030|         Lazz|   Sydelle Edgar|sedgar4@reverbnat...|  861-980-8811|        Suite 79|             Lanxi|           China|\n",
      "|  6|            Frankie|           Waycott|          58|  dgrindell5@usa.gov|            Russia|              666733|              dog|           Harald|          Parakeet|            Doria|        Grindell|dgrindell5@slides...| United States|             63136|   Bird Cage|            Food|        32.07|               1|12/16/2021|               6|             6|              6|            3|          284.66|   Meembee|       Apt 170| Cherëmushki|           |              Brazil|228-304-9481|dgrindell5@stanfo...|        Cats|          34.7|         Mauv|       Small|        Quatz|      Plexiglass|Nullam sit amet t...|           4.1|            924|          12/24/2017|          7/11/2030|         Izio|  Doria Grindell| dgrindell5@1688.com|  314-270-0484|       3rd Floor|       Saint Louis|          Russia|\n",
      "|  7|              Boote|            Ricart|          69|      kelies6@si.edu|Dominican Republic|               11902|              dog|         Angeline|           Siamese|            Kenny|           Elies|     kelies6@nba.com|     Indonesia|                  |     Cat Toy|            Cage|        78.21|              56| 7/26/2021|               7|             7|              7|            1|          444.84|  Riffpath|    15th Floor|        Moca|           |Bosnia and Herzeg...|409-768-5793| kelies6@twitpic.com|       Birds|          36.9|    Goldenrod|       Small|     Jaxworks|          Rubber|Vestibulum ac est...|           2.2|            216|           8/12/2013|          3/18/2028|     Fanoodle|     Kenny Elies|  kelies6@hao123.com|  627-887-5660|    PO Box 84390|       Somorpenang|          Mexico|\n",
      "|  8|               Mace|           Parkman|          22|tungaretti7@censu...|            Mexico|               58095|              cat|          Rosalia|           Siamese|           Tabina|       Ungaretti|tungaretti7@sphin...|    Tajikistan|                  |   Bird Cage|            Cage|        67.65|              32|  3/6/2021|               8|             8|              8|            2|          127.97|   Yakidoo|    PO Box 846|Buenos Aires|        MIC|              Sweden|890-747-2590|tungaretti7@typep...|        Dogs|          25.2|         Blue|       Large|        Aibox|         Plastic|Quisque porta vol...|           4.5|            629|           7/23/2015|          5/31/2028|  Thoughtblab|Tabina Ungaretti|tungaretti7@share...|  325-667-3782|        Room 922|         Panjakent|          Russia|\n",
      "|  9|             Hobard|          Rawnsley|          74|   mglason8@jugem.jp|             China|                    |             bird|       Anna-diane|           Siamese|              May|          Glason| mglason8@dion.ne.jp|        Russia|            694230|    Dog Food|             Toy|        48.41|              99| 6/10/2021|               9|             9|              9|            4|          207.12|  Blogspan|     3rd Floor|      Xiushi|           |              France|511-490-3261|mglason8@liveinte...|        Cats|          37.3|    Turquoise|       Small|      Dabtype|           Stone|Praesent id massa...|           2.7|             18|            7/9/2018|          4/30/2025|      Dabvine|      May Glason|mglason8@so-net.n...|  459-716-0328|       3rd Floor|         Leonidovo|     Philippines|\n",
      "| 10|              Jorry|         Cattenach|          46|jpelerin9@cbsnews...|            Poland|              34-146|              cat|             Peri|Labrador Retriever|            Jorry|         Pelerin|    jpelerin9@nhs.uk|     Indonesia|                  |    Dog Food|             Toy|         7.39|              86| 1/21/2021|              10|            10|             10|            7|          220.72|   Skilith|   PO Box 6826|    Stryszów|           |               Italy|307-889-7819|jpelerin9@howstuf...|        Dogs|          36.9|         Blue|       Small|       Skimia|         Granite|Fusce consequat. ...|           4.2|            277|            3/6/2014|          5/30/2023|     Linktype|   Jorry Pelerin|jpelerin9@theguar...|  540-290-6958|        Suite 34|          Sukadami|       Indonesia|\n",
      "+---+-------------------+------------------+------------+--------------------+------------------+--------------------+-----------------+-----------------+------------------+-----------------+----------------+--------------------+--------------+------------------+------------+----------------+-------------+----------------+----------+----------------+--------------+---------------+-------------+----------------+----------+--------------+------------+-----------+--------------------+------------+--------------------+------------+--------------+-------------+------------+-------------+----------------+--------------------+--------------+---------------+--------------------+-------------------+-------------+----------------+--------------------+--------------+----------------+------------------+----------------+\n",
      "only showing top 10 rows\n",
      "\n"
     ]
    }
   ],
   "source": [
    "df = spark.read.jdbc(url=jdbc_url, table=\"abd_2.mock_data\", properties=properties)\n",
    "df.show(10)"
   ]
  },
  {
   "cell_type": "markdown",
   "metadata": {},
   "source": [
    "## Преобразуем данные из `mock_data` в снежинку"
   ]
  },
  {
   "cell_type": "markdown",
   "metadata": {},
   "source": [
    "Создадим таблицу для покупателей:\n",
    "\n",
    "```sql\n",
    "CREATE TABLE dim_customer (\n",
    "    customer_id SERIAL PRIMARY KEY,\n",
    "    first_name VARCHAR(50),\n",
    "    last_name VARCHAR(50),\n",
    "    age INT,\n",
    "    email VARCHAR(50),\n",
    "    country VARCHAR(50),\n",
    "    postal_code VARCHAR(50)\n",
    ");\n",
    "```\n"
   ]
  },
  {
   "cell_type": "code",
   "execution_count": 79,
   "metadata": {},
   "outputs": [
    {
     "name": "stdout",
     "output_type": "stream",
     "text": [
      "+-----------+----------+---------+---+--------------------+-----------+-----------+\n",
      "|customer_id|first_name|last_name|age|               email|    country|postal_code|\n",
      "+-----------+----------+---------+---+--------------------+-----------+-----------+\n",
      "|        108|Holly-anne|  Elleton| 79|    membra2z@ucoz.ru|   Colombia|     631008|\n",
      "|        282|  Katerine|  Screech| 75|bgiacovelli7t@abo...|    Croatia|      31207|\n",
      "|        624|   Adeline|  Gurnett| 41|      hstearthb@g.co|      China|           |\n",
      "|        916|   Skippie| McKernan| 28|egydepf@trellian.com|  Indonesia|           |\n",
      "|        981|   Vincent|  Edgerly| 44| ltiesr8@oaic.gov.au|      China|           |\n",
      "|       1056|   Maureen|  Panther| 62| cwitherby1j@mtv.com|      China|           |\n",
      "|       1065|     Hatty|  Largent| 71|cmacneill1s@sfgat...|     Greece|           |\n",
      "|       1109|   Patrice|     Cadd| 52|bbedborough30@int...|      China|           |\n",
      "|       1156|    Basile|O'Howbane| 30|cpetrushka4b@tops...|Philippines|       6818|\n",
      "|       1431|    Clarke|     Cray| 18|cjiruchby@clickba...|     Canada|        J9L|\n",
      "+-----------+----------+---------+---+--------------------+-----------+-----------+\n",
      "only showing top 10 rows\n",
      "\n"
     ]
    }
   ],
   "source": [
    "dim_customer = df.select(\n",
    "    df.sale_customer_id.alias(\"customer_id\"),\n",
    "    df.customer_first_name.alias(\"first_name\"),\n",
    "    df.customer_last_name.alias(\"last_name\"),\n",
    "    df.customer_age.alias(\"age\"),\n",
    "    df.customer_email.alias(\"email\"),\n",
    "    df.customer_country.alias(\"country\"),\n",
    "    df.customer_postal_code.alias(\"postal_code\")).distinct()\n",
    "dim_customer.show(10)"
   ]
  },
  {
   "cell_type": "markdown",
   "metadata": {},
   "source": [
    "Таблица питомцев:\n",
    "```sql\n",
    "CREATE TABLE dim_customer_pet (\n",
    "    pet_id SERIAL PRIMARY KEY,\n",
    "    customer_id INT REFERENCES dim_customer(customer_id),\n",
    "    name VARCHAR(50),\n",
    "    type VARCHAR(50),\n",
    "    breed VARCHAR(50),\n",
    "    category VARCHAR(50)\n",
    ")\n",
    "```"
   ]
  },
  {
   "cell_type": "code",
   "execution_count": 80,
   "metadata": {},
   "outputs": [
    {
     "name": "stdout",
     "output_type": "stream",
     "text": [
      "+----+---------+------------------+--------+-----------+------+\n",
      "|type|     name|             breed|category|customer_id|pet_id|\n",
      "+----+---------+------------------+--------+-----------+------+\n",
      "| cat|Priscella|Labrador Retriever|    Cats|          1|     0|\n",
      "|bird|  Dalenna|Labrador Retriever|    Cats|          2|     1|\n",
      "|bird| Aldridge|          Parakeet|    Fish|          3|     2|\n",
      "| cat|  Beverie|Labrador Retriever|    Fish|          4|     3|\n",
      "|bird|  Sydelle|           Siamese|Reptiles|          5|     4|\n",
      "+----+---------+------------------+--------+-----------+------+\n",
      "only showing top 5 rows\n",
      "\n"
     ]
    }
   ],
   "source": [
    "from pyspark.sql import functions\n",
    "\n",
    "dim_pet = df.select(\n",
    "    df.customer_pet_type.alias(\"type\"),\n",
    "    df.customer_pet_name.alias(\"name\"),\n",
    "    df.customer_pet_breed.alias(\"breed\"),\n",
    "    df.pet_category.alias(\"category\"),\n",
    "    df.sale_customer_id.alias(\"customer_id\"),\n",
    ").withColumn(\"pet_id\", functions.monotonically_increasing_id())\n",
    "dim_pet.show(5)"
   ]
  },
  {
   "cell_type": "markdown",
   "metadata": {},
   "source": [
    "Таблица продавцов:\n",
    "```sql\n",
    "CREATE TABLE dim_seller (\n",
    "    seller_id SERIAL PRIMARY KEY,\n",
    "    first_name VARCHAR(50),\n",
    "    last_name VARCHAR(50),\n",
    "    email VARCHAR(50),\n",
    "    country VARCHAR(50),\n",
    "    postal_code VARCHAR(50)\n",
    ");\n",
    "```"
   ]
  },
  {
   "cell_type": "code",
   "execution_count": 81,
   "metadata": {},
   "outputs": [
    {
     "name": "stdout",
     "output_type": "stream",
     "text": [
      "+---------+----------+----------+--------------------+---------+-----------+\n",
      "|seller_id|first_name| last_name|               email|  country|postal_code|\n",
      "+---------+----------+----------+--------------------+---------+-----------+\n",
      "|       77|       Doe|    Gilder|dgilder24@utexas.edu|   Russia|     656903|\n",
      "|      167|    Zorine|MacCrackan|zmaccrackan4m@new...|Guatemala|      12009|\n",
      "|      640|   Kandace| Monkhouse|kmonkhousehr@macr...|   Sweden|     111 20|\n",
      "|     1081|    Reagen|  Rosedale|rrosedale28@ebay....|  Nigeria|           |\n",
      "|     1345|    Cherie|     Brave|cbrave9k@sakura.n...|   Uganda|           |\n",
      "+---------+----------+----------+--------------------+---------+-----------+\n",
      "only showing top 5 rows\n",
      "\n"
     ]
    }
   ],
   "source": [
    "dim_seller = df.select(\n",
    "    df.sale_seller_id.alias(\"seller_id\"),\n",
    "    df.seller_first_name.alias(\"first_name\"),\n",
    "    df.seller_last_name.alias(\"last_name\"),\n",
    "    df.seller_email.alias(\"email\"),\n",
    "    df.seller_country.alias(\"country\"),\n",
    "    df.seller_postal_code.alias(\"postal_code\"),\n",
    ").distinct()\n",
    "dim_seller.show(5)"
   ]
  },
  {
   "cell_type": "markdown",
   "metadata": {},
   "source": [
    "Таблица продуктов:\n",
    "```sql\n",
    "CREATE TABLE dim_product (\n",
    "    product_id SERIAL PRIMARY KEY,\n",
    "    name VARCHAR(50),\n",
    "    category VARCHAR(50),\n",
    "    price FLOAT,\n",
    "    quantity INT,\n",
    "    weight FLOAT,\n",
    "    color VARCHAR(50),\n",
    "    size VARCHAR(50),\n",
    "    brand VARCHAR(50),\n",
    "    material VARCHAR(50),\n",
    "    description VARCHAR(1024),\n",
    "    rating FLOAT,\n",
    "    reviews INT,\n",
    "    release_date DATE,\n",
    "    expiry_date DATE\n",
    ");\n",
    "```"
   ]
  },
  {
   "cell_type": "code",
   "execution_count": 82,
   "metadata": {},
   "outputs": [
    {
     "name": "stdout",
     "output_type": "stream",
     "text": [
      "+----------+---------+--------+-----+--------+------+------+------+-------------+--------+--------------------+------+-------+------------+-----------+\n",
      "|product_id|     name|category|price|quantity|weight| color|  size|        brand|material|         description|rating|reviews|release_date|expiry_date|\n",
      "+----------+---------+--------+-----+--------+------+------+------+-------------+--------+--------------------+------+-------+------------+-----------+\n",
      "|       547|Bird Cage|    Cage|33.12|      73|  26.0|Indigo|Medium|        Skajo|Aluminum|Suspendisse poten...|   3.8|    872|  2018-06-10| 2025-07-02|\n",
      "|      3137|Bird Cage|     Toy|68.36|       2|  38.2|Orange|Medium|       Dabjam|   Glass|Fusce consequat. ...|   1.7|    425|  2016-06-03| 2024-03-07|\n",
      "|      3365| Dog Food|    Food|10.99|      26|  36.6|Fuscia| Large|Chatterbridge|   Vinyl|Morbi non lectus....|   4.2|     54|  2012-01-03| 2025-07-02|\n",
      "|      3593| Dog Food|    Cage|63.94|      59|  16.8|  Teal|Medium|   Blognation|   Glass|Proin eu mi. Null...|   3.1|    296|  2014-12-02| 2029-11-12|\n",
      "|      3891|Bird Cage|     Toy|15.85|      58|   0.1|  Puce|Medium|        Eamia|Aluminum|Proin eu mi. Null...|   2.9|    307|  2010-01-08| 2026-10-05|\n",
      "+----------+---------+--------+-----+--------+------+------+------+-------------+--------+--------------------+------+-------+------------+-----------+\n",
      "only showing top 5 rows\n",
      "\n"
     ]
    }
   ],
   "source": [
    "dim_product = df.select(\n",
    "    df.sale_product_id.alias(\"product_id\"),\n",
    "    df.product_name.alias(\"name\"),\n",
    "    df.product_category.alias(\"category\"),\n",
    "    df.product_price.alias(\"price\"),\n",
    "    df.product_quantity.alias(\"quantity\"),\n",
    "    df.product_weight.alias(\"weight\"),\n",
    "    df.product_color.alias(\"color\"),\n",
    "    df.product_size.alias(\"size\"),\n",
    "    df.product_brand.alias(\"brand\"),\n",
    "    df.product_material.alias(\"material\"),\n",
    "    df.product_description.alias(\"description\"),\n",
    "    df.product_rating.alias(\"rating\"),\n",
    "    df.product_reviews.alias(\"reviews\"),\n",
    "    functions.to_date(df.product_release_date, \"d/M/yyyy\").alias(\"release_date\"),\n",
    "    functions.to_date(df.product_expiry_date, \"d/M/yyyy\").alias(\"expiry_date\")).distinct()\n",
    "dim_product.show(5)"
   ]
  },
  {
   "cell_type": "markdown",
   "metadata": {},
   "source": [
    "Таблица поставщиков:\n",
    "```sql\n",
    "CREATE TABLE dim_supplier (\n",
    "    supplier_id SERIAL PRIMARY KEY,\n",
    "    name VARCHAR(50),\n",
    "    contact VARCHAR(50),\n",
    "    email VARCHAR(50),\n",
    "    phone VARCHAR(50),\n",
    "    address VARCHAR(50),\n",
    "    city VARCHAR(50),\n",
    "    country VARCHAR(50)\n",
    ");\n",
    "```"
   ]
  },
  {
   "cell_type": "code",
   "execution_count": 83,
   "metadata": {},
   "outputs": [
    {
     "name": "stdout",
     "output_type": "stream",
     "text": [
      "+--------+----------------+--------------------+------------+---------+-----------+--------+-----------+\n",
      "|    name|         contact|               email|       phone|  address|       city| country|supplier_id|\n",
      "+--------+----------------+--------------------+------------+---------+-----------+--------+-----------+\n",
      "|   Oyoyo|Cirilo Hellewell|chellewellh@googl...|484-944-2476|7th Floor|      Manzë|Portugal|          0|\n",
      "|Snaptags| Evelin Alvarado|ealvaradof5@dedec...|120-766-6526|  Apt 848|      Ai Tu|Colombia|          1|\n",
      "|  Wikivu|Fayette Glascott|fglascottft@infos...|205-362-1952| Apt 1047|Mesyagutovo| Ukraine|          2|\n",
      "| Edgeify|Whitney Pomphrey|wpomphreyg7@engad...|485-355-8348| Suite 41| Brumadinho| Ukraine|          3|\n",
      "| Buzzdog|Rhianna Kneebone|rkneeboneki@merri...|451-222-9196| Suite 88|     Spassk| Armenia|          4|\n",
      "+--------+----------------+--------------------+------------+---------+-----------+--------+-----------+\n",
      "only showing top 5 rows\n",
      "\n"
     ]
    }
   ],
   "source": [
    "dim_supplier = df.select(\n",
    "    df.supplier_name.alias(\"name\"),\n",
    "    df.supplier_contact.alias(\"contact\"),\n",
    "    df.supplier_email.alias(\"email\"),\n",
    "    df.supplier_phone.alias(\"phone\"),\n",
    "    df.supplier_address.alias(\"address\"),\n",
    "    df.supplier_city.alias(\"city\"),\n",
    "    df.supplier_country.alias(\"country\")\n",
    ").distinct().withColumn(\"supplier_id\", functions.monotonically_increasing_id())\n",
    "dim_supplier.show(5)"
   ]
  },
  {
   "cell_type": "markdown",
   "metadata": {},
   "source": [
    "Таблица магазинов:\n",
    "```sql\n",
    "CREATE TABLE dim_store (\n",
    "    store_id SERIAL PRIMARY KEY,\n",
    "    name VARCHAR(50),\n",
    "    location VARCHAR(50),\n",
    "    city VARCHAR(50),\n",
    "    state VARCHAR(50),\n",
    "    country VARCHAR(50),\n",
    "    phone VARCHAR(50),\n",
    "    email VARCHAR(50)\n",
    ");\n",
    "```\n"
   ]
  },
  {
   "cell_type": "code",
   "execution_count": 84,
   "metadata": {},
   "outputs": [
    {
     "name": "stdout",
     "output_type": "stream",
     "text": [
      "+--------+------------+--------------+-----+---------+------------+--------------------+--------+\n",
      "|    name|    location|          city|state|  country|       phone|               email|store_id|\n",
      "+--------+------------+--------------+-----+---------+------------+--------------------+--------+\n",
      "|    Mymm|  19th Floor|Ustrzyki Dolne|     | Colombia|117-194-3628|     dwitt57@ovh.net|       0|\n",
      "|  Dabjam|   Room 1734|       Cayenne|   GF|   Greece|954-419-0001|  csalmonici@fc2.com|       1|\n",
      "|    Ntag|    Suite 39|    Bailingnao|     |Indonesia|875-746-2634|    ebrabhaml8@51.la|       2|\n",
      "|  Wikizz|    Suite 81|        Stýpsi|     |  Ecuador|779-407-6383|etrimbeyml@usnews...|       3|\n",
      "|Feedfish|PO Box 75044|      Aleshtar|     |   Angola|620-253-0558|tbristerqk@miibei...|       4|\n",
      "+--------+------------+--------------+-----+---------+------------+--------------------+--------+\n",
      "only showing top 5 rows\n",
      "\n"
     ]
    }
   ],
   "source": [
    "dim_store = df.select(\n",
    "    df.store_name.alias(\"name\"),\n",
    "    df.store_location.alias(\"location\"),\n",
    "    df.store_city.alias(\"city\"),\n",
    "    df.store_state.alias(\"state\"),\n",
    "    df.store_country.alias(\"country\"),\n",
    "    df.store_phone.alias(\"phone\"),\n",
    "    df.store_email.alias(\"email\")\n",
    ").distinct().withColumn(\"store_id\", functions.monotonically_increasing_id())\n",
    "dim_store.show(5)"
   ]
  },
  {
   "cell_type": "markdown",
   "metadata": {},
   "source": [
    "Таблица фактов:\n",
    "```sql\n",
    "CREATE TABLE fact_sales (\n",
    "    sale_id INT,\n",
    "    customer_id INT REFERENCES dim_customer(customer_id),\n",
    "    seller_id INT REFERENCES dim_seller(seller_id),\n",
    "    product_id INT REFERENCES dim_product(product_id),\n",
    "    supplier_id INT REFERENCES dim_supplier(supplier_id),\n",
    "    store_id INT REFERENCES dim_store(store_id),\n",
    "    date DATE,\n",
    "    quantity INT,\n",
    "    total_price FLOAT\n",
    ");\n",
    "```"
   ]
  },
  {
   "cell_type": "code",
   "execution_count": 85,
   "metadata": {},
   "outputs": [
    {
     "name": "stdout",
     "output_type": "stream",
     "text": [
      "+-------+-----------+---------+----------+-----------+--------+----------+--------+-----------+\n",
      "|sale_id|customer_id|seller_id|product_id|supplier_id|store_id|      date|quantity|total_price|\n",
      "+-------+-----------+---------+----------+-----------+--------+----------+--------+-----------+\n",
      "|    547|        547|      547|       547|       3434|    7694|2021-06-10|      10|     169.69|\n",
      "|   3137|       3137|     3137|      3137|       3704|    2154|2021-01-23|       6|      169.6|\n",
      "|   3365|       3365|     3365|      3365|        201|    5372|2021-06-25|       6|     390.72|\n",
      "|   3593|       3593|     3593|      3593|       5708|    9532|2021-02-11|       9|      286.1|\n",
      "|   3891|       3891|     3891|      3891|       7163|    8597|2021-03-08|       5|      249.8|\n",
      "+-------+-----------+---------+----------+-----------+--------+----------+--------+-----------+\n",
      "only showing top 5 rows\n",
      "\n"
     ]
    }
   ],
   "source": [
    "joined_df = (\n",
    "    df\n",
    "    .join(dim_customer, df.sale_customer_id == dim_customer.customer_id)\n",
    "    .join(dim_seller, df.sale_seller_id == dim_seller.seller_id)\n",
    "    .join(dim_product, df.sale_product_id == dim_product.product_id)\n",
    "    .join(dim_store,\n",
    "          (df.store_name == dim_store.name) &\n",
    "          (df.store_location == dim_store.location) &\n",
    "          (df.store_city == dim_store.city) &\n",
    "          (df.store_state == dim_store.state) &\n",
    "          (df.store_country == dim_store.country) &\n",
    "          (df.store_phone == dim_store.phone) &\n",
    "          (df.store_email == dim_store.email)\n",
    "    )\n",
    "    .join(dim_supplier,\n",
    "          (df.supplier_name == dim_supplier.name) &\n",
    "          (df.supplier_contact == dim_supplier.contact) &\n",
    "          (df.supplier_email == dim_supplier.email) &\n",
    "          (df.supplier_phone == dim_supplier.phone) &\n",
    "          (df.supplier_address == dim_supplier.address) &\n",
    "          (df.supplier_city == dim_supplier.city) &\n",
    "          (df.supplier_country == dim_supplier.country)\n",
    "    )\n",
    ")\n",
    "\n",
    "fact_sales = joined_df.select(\n",
    "    df.id.alias(\"sale_id\"),\n",
    "    dim_customer.customer_id,\n",
    "    dim_seller.seller_id,\n",
    "    dim_product.product_id,\n",
    "    dim_supplier.supplier_id,\n",
    "    dim_store.store_id,\n",
    "    functions.to_date(df.sale_date, 'M/d/yyyy').alias(\"date\"),\n",
    "    df.sale_quantity.alias(\"quantity\"),\n",
    "    df.sale_total_price.alias(\"total_price\")\n",
    ")\n",
    "fact_sales.show(5)"
   ]
  },
  {
   "cell_type": "code",
   "execution_count": 86,
   "metadata": {},
   "outputs": [],
   "source": [
    "dim_customer.write.jdbc(\n",
    "    url=jdbc_url,\n",
    "    table=\"dim_customer\",\n",
    "    mode=\"append\",\n",
    "    properties=properties)\n",
    "dim_pet.write.jdbc(\n",
    "    url=jdbc_url,\n",
    "    table=\"dim_pet\",\n",
    "    mode=\"append\",\n",
    "    properties=properties)\n",
    "dim_seller.write.jdbc(\n",
    "    url=jdbc_url,\n",
    "    table=\"dim_seller\",\n",
    "    mode=\"append\",\n",
    "    properties=properties)\n",
    "dim_product.write.jdbc(\n",
    "    url=jdbc_url,\n",
    "    table=\"dim_product\",\n",
    "    mode=\"append\",\n",
    "    properties=properties)\n",
    "dim_supplier.write.jdbc(\n",
    "    url=jdbc_url,\n",
    "    table=\"dim_supplier\",\n",
    "    mode=\"append\",\n",
    "    properties=properties)\n",
    "dim_store.write.jdbc(\n",
    "    url=jdbc_url,\n",
    "    table=\"dim_store\",\n",
    "    mode=\"append\",\n",
    "    properties=properties)\n",
    "fact_sales.write.jdbc(\n",
    "    url=jdbc_url,\n",
    "    table=\"fact_sales\",\n",
    "    mode=\"append\",\n",
    "    properties=properties)"
   ]
  },
  {
   "cell_type": "markdown",
   "metadata": {},
   "source": [
    "## Создадим отчёты в ClickHouse"
   ]
  },
  {
   "cell_type": "code",
   "execution_count": 87,
   "metadata": {},
   "outputs": [],
   "source": [
    "clickhouse_url = \"jdbc:clickhouse://clickhouse:8123/lab2\"\n",
    "\n",
    "clickhouse_props = {\n",
    "    \"driver\": \"com.clickhouse.jdbc.ClickHouseDriver\",\n",
    "    \"user\": \"user\",\n",
    "    \"password\": \"\",\n",
    "}"
   ]
  },
  {
   "cell_type": "code",
   "execution_count": 88,
   "metadata": {},
   "outputs": [
    {
     "name": "stdout",
     "output_type": "stream",
     "text": [
      "Ok.\n"
     ]
    }
   ],
   "source": [
    "!curl http://clickhouse:8123"
   ]
  },
  {
   "cell_type": "markdown",
   "metadata": {},
   "source": [
    "### 1. Витрина продаж по продуктам\n",
    "*Цель: Анализ выручки, количества продаж и популярности продуктов.*"
   ]
  },
  {
   "cell_type": "markdown",
   "metadata": {},
   "source": [
    " - Топ-10 самых продаваемых продуктов.\n"
   ]
  },
  {
   "cell_type": "code",
   "execution_count": 89,
   "metadata": {},
   "outputs": [
    {
     "name": "stdout",
     "output_type": "stream",
     "text": [
      "+----------+--------------+-----------------+---------+--------+------+------+----+\n",
      "|product_id|total_quantity|    total_revenue|     name|category| color|  size|rank|\n",
      "+----------+--------------+-----------------+---------+--------+------+------+----+\n",
      "|      8616|            10|499.7300109863281|  Cat Toy|     Toy|Fuscia|Medium|   1|\n",
      "|      3550|            10|499.5899963378906| Dog Food|     Toy|Yellow| Large|   2|\n",
      "|      1484|            10|498.9599914550781|Bird Cage|     Toy|Indigo| Small|   3|\n",
      "|      7596|            10|498.3500061035156| Dog Food|    Food|  Puce| Small|   4|\n",
      "|      9956|            10|           497.25| Dog Food|    Food|  Teal| Large|   5|\n",
      "+----------+--------------+-----------------+---------+--------+------+------+----+\n",
      "only showing top 5 rows\n",
      "\n"
     ]
    }
   ],
   "source": [
    "from pyspark.sql.window import Window\n",
    "\n",
    "top_10_products = fact_sales.groupBy(\"product_id\") \\\n",
    "    .agg(\n",
    "        functions.sum(\"quantity\").alias(\"total_quantity\"),\n",
    "        functions.sum(\"total_price\").alias(\"total_revenue\")) \\\n",
    "    .join(dim_product.select(\"product_id\", \"name\", \"category\", \"color\", \"size\"), \"product_id\") \\\n",
    "    .orderBy(functions.desc(\"total_quantity\"),\n",
    "             functions.desc(\"total_revenue\")) \\\n",
    "    .limit(10)\n",
    "    \n",
    "top_10_products = top_10_products.withColumn(\"rank\",\n",
    "    functions.row_number().over(\n",
    "        Window.orderBy(functions.desc(\"total_quantity\"),\n",
    "                       functions.desc(\"total_revenue\"))))\n",
    "\n",
    "top_10_products.show(5)"
   ]
  },
  {
   "cell_type": "code",
   "execution_count": 90,
   "metadata": {},
   "outputs": [],
   "source": [
    "top_10_products.write \\\n",
    "    .option(\"createTableOptions\", \"ENGINE = MergeTree() ORDER BY (rank)\") \\\n",
    "    .mode(\"overwrite\") \\\n",
    "    .jdbc(url=clickhouse_url, table=\"top_10_products\", properties=clickhouse_props)"
   ]
  },
  {
   "cell_type": "markdown",
   "metadata": {},
   "source": [
    " - Общая выручка по категориям продуктов.\n"
   ]
  },
  {
   "cell_type": "code",
   "execution_count": 91,
   "metadata": {},
   "outputs": [
    {
     "name": "stdout",
     "output_type": "stream",
     "text": [
      "+--------+-----------------+\n",
      "|category|    total_revenue|\n",
      "+--------+-----------------+\n",
      "|    Cage|831117.9398345947|\n",
      "|    Food|830632.5497875214|\n",
      "|     Toy|868101.6302814484|\n",
      "+--------+-----------------+\n",
      "\n"
     ]
    }
   ],
   "source": [
    "total_revenue_by_category = fact_sales.join(\n",
    "    dim_product.select(\"product_id\", \"category\"), \"product_id\") \\\n",
    "    .groupBy(\"category\") \\\n",
    "    .agg(functions.sum(\"total_price\").alias(\"total_revenue\"))\n",
    "total_revenue_by_category.show(5)"
   ]
  },
  {
   "cell_type": "code",
   "execution_count": 92,
   "metadata": {},
   "outputs": [],
   "source": [
    "total_revenue_by_category.write \\\n",
    "    .option(\"createTableOptions\", \"ENGINE = MergeTree() ORDER BY (total_revenue)\") \\\n",
    "    .mode(\"overwrite\") \\\n",
    "    .jdbc(url=clickhouse_url, table=\"total_revenue_by_category\", properties=clickhouse_props)\n"
   ]
  },
  {
   "cell_type": "markdown",
   "metadata": {},
   "source": [
    " - Средний рейтинг и количество отзывов для каждого продукта.\n"
   ]
  },
  {
   "cell_type": "code",
   "execution_count": 93,
   "metadata": {},
   "outputs": [
    {
     "name": "stdout",
     "output_type": "stream",
     "text": [
      "+---------+------------------+------------+\n",
      "|     name|       avg(rating)|sum(reviews)|\n",
      "+---------+------------------+------------+\n",
      "|Bird Cage|3.0001491633975137|     1682260|\n",
      "| Dog Food| 3.018298893783149|     1653413|\n",
      "|  Cat Toy| 3.006860081398008|     1676222|\n",
      "+---------+------------------+------------+\n",
      "\n"
     ]
    }
   ],
   "source": [
    "avg_product_rating = dim_product.groupBy('name').agg(functions.avg('rating'),\n",
    "                                functions.sum('reviews'))\n",
    "avg_product_rating.show(5)"
   ]
  },
  {
   "cell_type": "code",
   "execution_count": 94,
   "metadata": {},
   "outputs": [],
   "source": [
    "avg_product_rating.write \\\n",
    "    .option(\"createTableOptions\", \"ENGINE = MergeTree() ORDER BY (name)\") \\\n",
    "    .mode(\"overwrite\") \\\n",
    "    .jdbc(url=clickhouse_url, table=\"avg_product_rating\", properties=clickhouse_props)"
   ]
  },
  {
   "cell_type": "markdown",
   "metadata": {},
   "source": [
    "### 2. Витрина продаж по клиентам\n",
    "*Цель: Анализ покупательского поведения и сегментация клиентов.*"
   ]
  },
  {
   "cell_type": "markdown",
   "metadata": {},
   "source": [
    "- Топ-10 клиентов с наибольшей общей суммой покупок\n"
   ]
  },
  {
   "cell_type": "code",
   "execution_count": 95,
   "metadata": {},
   "outputs": [
    {
     "name": "stdout",
     "output_type": "stream",
     "text": [
      "+-----------+----------+---------+------------------+\n",
      "|customer_id|first_name|last_name|       total_spent|\n",
      "+-----------+----------+---------+------------------+\n",
      "|       4188|       Gus|Hartshorn| 499.8500061035156|\n",
      "|       6422|     Hayes|   McKain|499.79998779296875|\n",
      "|       5923|     Dawna|    Impey|  499.760009765625|\n",
      "|       6361|       Ava|    Lomas|  499.760009765625|\n",
      "|       8616|   Lavinia|Horsburgh| 499.7300109863281|\n",
      "+-----------+----------+---------+------------------+\n",
      "only showing top 5 rows\n",
      "\n"
     ]
    }
   ],
   "source": [
    "\n",
    "\n",
    "top_10_customers = fact_sales.join(dim_customer, \"customer_id\") \\\n",
    "    .groupBy(\"customer_id\", \"first_name\", \"last_name\") \\\n",
    "    .agg(functions.sum(\"total_price\").alias(\"total_spent\")) \\\n",
    "    .orderBy(functions.desc(\"total_spent\")) \\\n",
    "    .limit(10)\n",
    "top_10_customers.show(5)\n",
    "top_10_customers.write \\\n",
    "    .option(\"createTableOptions\", \"ENGINE = MergeTree() ORDER BY (total_spent)\") \\\n",
    "    .mode(\"overwrite\") \\\n",
    "    .jdbc(url=clickhouse_url, table=\"top_10_customers\", properties=clickhouse_props)"
   ]
  },
  {
   "cell_type": "markdown",
   "metadata": {},
   "source": [
    "\n",
    "- Распределение клиентов по странам\n"
   ]
  },
  {
   "cell_type": "code",
   "execution_count": 96,
   "metadata": {},
   "outputs": [
    {
     "name": "stdout",
     "output_type": "stream",
     "text": [
      "+-------------------+-------------+\n",
      "|            country|num_customers|\n",
      "+-------------------+-------------+\n",
      "|               Chad|            5|\n",
      "|             Russia|          628|\n",
      "|           Paraguay|           18|\n",
      "|              Yemen|           39|\n",
      "|U.S. Virgin Islands|            1|\n",
      "+-------------------+-------------+\n",
      "only showing top 5 rows\n",
      "\n"
     ]
    }
   ],
   "source": [
    "clients_by_country = dim_customer.groupBy(\"country\") \\\n",
    "    .agg(functions.count(\"customer_id\").alias(\"num_customers\"))\n",
    "clients_by_country.show(5)\n",
    "clients_by_country.write \\\n",
    "    .option(\"createTableOptions\", \"ENGINE = MergeTree() ORDER BY (country)\") \\\n",
    "    .mode(\"overwrite\") \\\n",
    "    .jdbc(url=clickhouse_url, table=\"clients_by_country\", properties=clickhouse_props)\n"
   ]
  },
  {
   "cell_type": "markdown",
   "metadata": {},
   "source": [
    "\n",
    "- Средний чек для каждого клиента\n"
   ]
  },
  {
   "cell_type": "code",
   "execution_count": 97,
   "metadata": {},
   "outputs": [
    {
     "name": "stdout",
     "output_type": "stream",
     "text": [
      "+-----------+----------+-----------+------------------+\n",
      "|customer_id|first_name|  last_name|       avg_receipt|\n",
      "+-----------+----------+-----------+------------------+\n",
      "|       2563|   Darline|   Ozintsev| 336.2099914550781|\n",
      "|       3704|    Jenica|   Patching| 217.3000030517578|\n",
      "|       9946|    Godfry|   Chatwood|151.55999755859375|\n",
      "|       7206|   Phyllys|Schoolcroft| 298.8299865722656|\n",
      "|       5427|      Noby|    Clayden|  338.010009765625|\n",
      "+-----------+----------+-----------+------------------+\n",
      "only showing top 5 rows\n",
      "\n"
     ]
    }
   ],
   "source": [
    "avg_receipt_per_customer = fact_sales.join(dim_customer, \"customer_id\") \\\n",
    "    .groupBy(\"customer_id\", \"first_name\", \"last_name\") \\\n",
    "    .agg(functions.avg(\"total_price\").alias(\"avg_receipt\"))\n",
    "avg_receipt_per_customer.show(5)\n",
    "avg_receipt_per_customer.write \\\n",
    "    .option(\"createTableOptions\", \"ENGINE = MergeTree() ORDER BY (customer_id)\") \\\n",
    "    .mode(\"overwrite\") \\\n",
    "    .jdbc(url=clickhouse_url, table=\"avg_receipt_per_customer\", properties=clickhouse_props)\n"
   ]
  },
  {
   "cell_type": "markdown",
   "metadata": {},
   "source": [
    "\n",
    "### 3. Витрина продаж по времени\n",
    "*Цель: Анализ сезонности и трендов продаж.*\n"
   ]
  },
  {
   "cell_type": "markdown",
   "metadata": {},
   "source": [
    "- Месячные и годовые тренды продаж\n"
   ]
  },
  {
   "cell_type": "code",
   "execution_count": 98,
   "metadata": {},
   "outputs": [
    {
     "name": "stdout",
     "output_type": "stream",
     "text": [
      "+----+-----+------------------+------------+------------------+\n",
      "|year|month|   monthly_revenue|orders_count|    yearly_revenue|\n",
      "+----+-----+------------------+------------+------------------+\n",
      "|2021|    8| 221275.7799243927|         897|2529852.1199035645|\n",
      "|2021|    6| 215042.7997379303|         822|2529852.1199035645|\n",
      "|2021|    5|211764.86022472382|         828|2529852.1199035645|\n",
      "|2021|   10| 228743.3197774887|         892|2529852.1199035645|\n",
      "|2021|   11|200154.69006824493|         801|2529852.1199035645|\n",
      "+----+-----+------------------+------------+------------------+\n",
      "only showing top 5 rows\n",
      "\n"
     ]
    }
   ],
   "source": [
    "time_trends = fact_sales.withColumn(\"year\", functions.year(\"date\")) \\\n",
    "    .withColumn(\"month\", functions.month(\"date\")) \\\n",
    "    .groupBy(\"year\", \"month\") \\\n",
    "    .agg(functions.sum(\"total_price\").alias(\"monthly_revenue\"),\n",
    "         functions.count(\"sale_id\").alias(\"orders_count\"))\n",
    "\n",
    "time_trends = time_trends.withColumn(\n",
    "    \"yearly_revenue\",\n",
    "    functions.sum(\"monthly_revenue\").over(Window.partitionBy(\"year\"))\n",
    ")\n",
    "    \n",
    "time_trends.show(5)\n",
    "time_trends.write \\\n",
    "    .option(\"createTableOptions\", \"ENGINE = MergeTree() ORDER BY (year, month)\") \\\n",
    "    .mode(\"overwrite\") \\\n",
    "    .jdbc(url=clickhouse_url, table=\"time_trends\", properties=clickhouse_props)"
   ]
  },
  {
   "cell_type": "markdown",
   "metadata": {},
   "source": [
    "\n",
    "- Сравнение выручки за разные периоды (например, по годам)\n"
   ]
  },
  {
   "cell_type": "code",
   "execution_count": 99,
   "metadata": {},
   "outputs": [
    {
     "name": "stdout",
     "output_type": "stream",
     "text": [
      "+----+------------------+\n",
      "|year|     total_revenue|\n",
      "+----+------------------+\n",
      "|2021|2529852.1199035645|\n",
      "+----+------------------+\n",
      "\n"
     ]
    }
   ],
   "source": [
    "yearly_revenue = fact_sales.withColumn(\"year\", functions.year(\"date\")) \\\n",
    "    .groupBy(\"year\") \\\n",
    "    .agg(functions.sum(\"total_price\").alias(\"total_revenue\"))\n",
    "yearly_revenue.show(5)\n",
    "yearly_revenue.write \\\n",
    "    .option(\"createTableOptions\", \"ENGINE = MergeTree() ORDER BY (year)\") \\\n",
    "    .mode(\"overwrite\") \\\n",
    "    .jdbc(url=clickhouse_url, table=\"yearly_revenue\", properties=clickhouse_props)\n"
   ]
  },
  {
   "cell_type": "markdown",
   "metadata": {},
   "source": [
    "\n",
    "- Средний размер заказа по месяцам\n"
   ]
  },
  {
   "cell_type": "code",
   "execution_count": 100,
   "metadata": {},
   "outputs": [
    {
     "name": "stdout",
     "output_type": "stream",
     "text": [
      "+-----+------------------+\n",
      "|month|      avg_quantity|\n",
      "+-----+------------------+\n",
      "|   12|  5.62987012987013|\n",
      "|    1| 5.556064073226545|\n",
      "|    6| 5.399026763990268|\n",
      "|    3|5.4104389086595495|\n",
      "|    5| 5.375603864734299|\n",
      "+-----+------------------+\n",
      "only showing top 5 rows\n",
      "\n"
     ]
    }
   ],
   "source": [
    "avg_order_monthly = fact_sales.withColumn(\"month\", functions.month(\"date\")) \\\n",
    "    .groupBy(\"month\") \\\n",
    "    .agg(functions.avg(\"quantity\").alias(\"avg_quantity\"))\n",
    "avg_order_monthly.show(5)\n",
    "avg_order_monthly.write \\\n",
    "    .option(\"createTableOptions\", \"ENGINE = MergeTree() ORDER BY (month)\") \\\n",
    "    .mode(\"overwrite\") \\\n",
    "    .jdbc(url=clickhouse_url, table=\"avg_order_monthly\", properties=clickhouse_props)\n"
   ]
  },
  {
   "cell_type": "markdown",
   "metadata": {},
   "source": [
    "### 4. Витрина продаж по магазинам\n",
    "*Цель: Анализ эффективности магазинов.*"
   ]
  },
  {
   "cell_type": "markdown",
   "metadata": {},
   "source": [
    "- Топ-5 магазинов с наибольшей выручкой\n"
   ]
  },
  {
   "cell_type": "code",
   "execution_count": 101,
   "metadata": {},
   "outputs": [
    {
     "name": "stdout",
     "output_type": "stream",
     "text": [
      "+--------+-----------+------------------+\n",
      "|store_id|       name|     total_revenue|\n",
      "+--------+-----------+------------------+\n",
      "|    3253|       DabZ| 499.8500061035156|\n",
      "|    5057|Thoughtblab|499.79998779296875|\n",
      "|    1671|     Camido|  499.760009765625|\n",
      "|    9704|   Edgeblab|  499.760009765625|\n",
      "|    4885|    Centizu| 499.7300109863281|\n",
      "+--------+-----------+------------------+\n",
      "\n"
     ]
    }
   ],
   "source": [
    "top_5_stores = fact_sales.join(dim_store, \"store_id\") \\\n",
    "    .groupBy(\"store_id\", \"name\") \\\n",
    "    .agg(functions.sum(\"total_price\").alias(\"total_revenue\")) \\\n",
    "    .orderBy(functions.desc(\"total_revenue\")) \\\n",
    "    .limit(5)\n",
    "top_5_stores.show(5)\n",
    "top_5_stores.write \\\n",
    "    .option(\"createTableOptions\", \"ENGINE = MergeTree() ORDER BY (total_revenue)\") \\\n",
    "    .mode(\"overwrite\") \\\n",
    "    .jdbc(url=clickhouse_url, table=\"top_5_stores\", properties=clickhouse_props)"
   ]
  },
  {
   "cell_type": "markdown",
   "metadata": {},
   "source": [
    "\n",
    "- Распределение продаж по городам и странам\n"
   ]
  },
  {
   "cell_type": "code",
   "execution_count": 102,
   "metadata": {},
   "outputs": [
    {
     "name": "stdout",
     "output_type": "stream",
     "text": [
      "+--------+-----------+------------------+------------------+\n",
      "|    city|    country|      city_revenue|   country_revenue|\n",
      "+--------+-----------+------------------+------------------+\n",
      "| Gagarin|Afghanistan|301.95001220703125|15966.489999771118|\n",
      "|  Ma‘dān|Afghanistan|  93.3499984741211|15966.489999771118|\n",
      "|Longxing|Afghanistan| 450.3800048828125|15966.489999771118|\n",
      "|  Daugai|Afghanistan| 485.6600036621094|15966.489999771118|\n",
      "|Zhangtan|Afghanistan| 420.9100036621094|15966.489999771118|\n",
      "+--------+-----------+------------------+------------------+\n",
      "only showing top 5 rows\n",
      "\n"
     ]
    }
   ],
   "source": [
    "sales_by_location = fact_sales.join(dim_store, \"store_id\") \\\n",
    "    .groupBy(\"city\", \"country\") \\\n",
    "    .agg(functions.sum(\"total_price\").alias(\"city_revenue\"))\n",
    "sales_by_location = sales_by_location.withColumn(\n",
    "    \"country_revenue\",\n",
    "    functions.sum(\"city_revenue\").over(Window.partitionBy(\"country\"))\n",
    ")\n",
    "sales_by_location.show(5)\n",
    "sales_by_location.write \\\n",
    "    .option(\"createTableOptions\", \"ENGINE = MergeTree() ORDER BY (country, city)\") \\\n",
    "    .mode(\"overwrite\") \\\n",
    "    .jdbc(url=clickhouse_url, table=\"sales_by_location\", properties=clickhouse_props)\n"
   ]
  },
  {
   "cell_type": "markdown",
   "metadata": {},
   "source": [
    "\n",
    "- Средний чек для каждого магазина\n"
   ]
  },
  {
   "cell_type": "code",
   "execution_count": 103,
   "metadata": {},
   "outputs": [
    {
     "name": "stdout",
     "output_type": "stream",
     "text": [
      "+--------+----------+------------------+\n",
      "|store_id|      name|       avg_receipt|\n",
      "+--------+----------+------------------+\n",
      "|    8602|Browsetype|  326.260009765625|\n",
      "|    1828|Topicshots| 428.2200012207031|\n",
      "|    9262|  Livefish|486.57000732421875|\n",
      "|    2766|      Yodo|207.82000732421875|\n",
      "|    2443|   Flipbug| 333.8800048828125|\n",
      "+--------+----------+------------------+\n",
      "only showing top 5 rows\n",
      "\n"
     ]
    }
   ],
   "source": [
    "avg_receipt_per_store = fact_sales.join(dim_store, 'store_id') \\\n",
    "    .groupBy(\"store_id\", \"name\") \\\n",
    "    .agg(functions.avg(\"total_price\").alias(\"avg_receipt\"))\n",
    "avg_receipt_per_store.show(5)\n",
    "avg_receipt_per_store.write \\\n",
    "    .option(\"createTableOptions\", \"ENGINE = MergeTree() ORDER BY (store_id)\") \\\n",
    "    .mode(\"overwrite\") \\\n",
    "    .jdbc(url=clickhouse_url, table=\"avg_receipt_per_store\", properties=clickhouse_props)\n"
   ]
  },
  {
   "cell_type": "markdown",
   "metadata": {},
   "source": [
    "\n",
    "### 5. Витрина продаж по поставщикам\n",
    "*Цель: Анализ эффективности поставщиков.*"
   ]
  },
  {
   "cell_type": "markdown",
   "metadata": {},
   "source": [
    "- Топ-5 поставщиков с наибольшей выручкой\n"
   ]
  },
  {
   "cell_type": "code",
   "execution_count": 104,
   "metadata": {},
   "outputs": [
    {
     "name": "stdout",
     "output_type": "stream",
     "text": [
      "+-----------+----------+------------------+\n",
      "|supplier_id|      name|     total_revenue|\n",
      "+-----------+----------+------------------+\n",
      "|       2496|Brainverse| 499.8500061035156|\n",
      "|       6262|     Jamia|499.79998779296875|\n",
      "|       7292|     Eabox|  499.760009765625|\n",
      "|       4225|   Demimbu|  499.760009765625|\n",
      "|       3923|Browsezoom| 499.7300109863281|\n",
      "+-----------+----------+------------------+\n",
      "\n"
     ]
    }
   ],
   "source": [
    "top_5_suppliers = fact_sales.join(dim_supplier, \"supplier_id\") \\\n",
    "    .groupBy(\"supplier_id\", \"name\") \\\n",
    "    .agg(functions.sum(\"total_price\").alias(\"total_revenue\")) \\\n",
    "    .orderBy(functions.desc(\"total_revenue\")) \\\n",
    "    .limit(5)\n",
    "top_5_suppliers.show(5)\n",
    "top_5_suppliers.write \\\n",
    "    .option(\"createTableOptions\", \"ENGINE = MergeTree() ORDER BY (total_revenue)\") \\\n",
    "    .mode(\"overwrite\") \\\n",
    "    .jdbc(url=clickhouse_url, table=\"top_5_suppliers\", properties=clickhouse_props)\n"
   ]
  },
  {
   "cell_type": "markdown",
   "metadata": {},
   "source": [
    "\n",
    "- Средняя цена товаров от каждого поставщика\n"
   ]
  },
  {
   "cell_type": "code",
   "execution_count": 105,
   "metadata": {},
   "outputs": [
    {
     "name": "stdout",
     "output_type": "stream",
     "text": [
      "+-----------+--------+------------------+\n",
      "|supplier_id|    name|         avg_price|\n",
      "+-----------+--------+------------------+\n",
      "|        938|  Skaboo| 40.61000061035156|\n",
      "|       7532|   Oyope|29.600000381469727|\n",
      "|       8877|Topdrive|21.149999618530273|\n",
      "|       5250|  Tekfly|32.529998779296875|\n",
      "|       8918| Yakitri|             73.25|\n",
      "+-----------+--------+------------------+\n",
      "only showing top 5 rows\n",
      "\n"
     ]
    }
   ],
   "source": [
    "fact = fact_sales.alias(\"f\")\n",
    "product = dim_product.alias(\"p\")\n",
    "supplier = dim_supplier.alias(\"s\")\n",
    "\n",
    "avg_price_per_supplier = fact \\\n",
    "    .join(product, functions.col(\"p.product_id\") == functions.col(\"f.product_id\")) \\\n",
    "    .join(supplier, functions.col(\"s.supplier_id\") == functions.col(\"f.supplier_id\")) \\\n",
    "    .groupBy(functions.col(\"s.supplier_id\"), functions.col(\"s.name\")) \\\n",
    "    .agg(functions.avg(functions.col(\"p.price\")).alias(\"avg_price\"))\n",
    "\n",
    "avg_price_per_supplier.show(5)\n",
    "\n",
    "avg_price_per_supplier.write \\\n",
    "    .option(\"createTableOptions\", \"ENGINE = MergeTree() ORDER BY (supplier_id)\") \\\n",
    "    .mode(\"overwrite\") \\\n",
    "    .jdbc(url=clickhouse_url, table=\"avg_price_per_supplier\", properties=clickhouse_props)"
   ]
  },
  {
   "cell_type": "markdown",
   "metadata": {},
   "source": [
    "\n",
    "- Распределение продаж по странам поставщиков\n"
   ]
  },
  {
   "cell_type": "code",
   "execution_count": 106,
   "metadata": {},
   "outputs": [
    {
     "name": "stdout",
     "output_type": "stream",
     "text": [
      "+--------+------------------+\n",
      "| country|     total_revenue|\n",
      "+--------+------------------+\n",
      "|    Chad|2051.0300102233887|\n",
      "|Paraguay| 2957.859983444214|\n",
      "|  Russia|149206.74995231628|\n",
      "|   Yemen|11414.629959106445|\n",
      "| Senegal| 3162.409980773926|\n",
      "+--------+------------------+\n",
      "only showing top 5 rows\n",
      "\n"
     ]
    }
   ],
   "source": [
    "sales_by_supplier_country = fact_sales \\\n",
    "    .join(dim_supplier, \"supplier_id\") \\\n",
    "    .groupBy(\"country\") \\\n",
    "    .agg(functions.sum(\"total_price\").alias(\"total_revenue\"))\n",
    "sales_by_supplier_country.show(5)\n",
    "sales_by_supplier_country.write \\\n",
    "    .option(\"createTableOptions\", \"ENGINE = MergeTree() ORDER BY (country)\") \\\n",
    "    .mode(\"overwrite\") \\\n",
    "    .jdbc(url=clickhouse_url, table=\"sales_by_supplier_country\", properties=clickhouse_props)\n"
   ]
  },
  {
   "cell_type": "markdown",
   "metadata": {},
   "source": [
    "\n",
    "### 6. Витрина качества продукции\n",
    "*Цель: Анализ отзывов и рейтингов товаров.*"
   ]
  },
  {
   "cell_type": "markdown",
   "metadata": {},
   "source": [
    "- Продукты с наивысшим и наименьшим рейтингом\n"
   ]
  },
  {
   "cell_type": "code",
   "execution_count": 107,
   "metadata": {},
   "outputs": [
    {
     "name": "stdout",
     "output_type": "stream",
     "text": [
      "+----------+---------+------+\n",
      "|product_id|     name|rating|\n",
      "+----------+---------+------+\n",
      "|      6146| Dog Food|   1.0|\n",
      "|      3902|Bird Cage|   1.0|\n",
      "|      6095|  Cat Toy|   1.0|\n",
      "|      9227| Dog Food|   1.0|\n",
      "|      9868| Dog Food|   1.0|\n",
      "+----------+---------+------+\n",
      "only showing top 5 rows\n",
      "\n"
     ]
    }
   ],
   "source": [
    "extreme_ratings = dim_product.select(\"product_id\", \"name\", \"rating\").orderBy(\"rating\")\n",
    "extreme_ratings.show(5)\n",
    "extreme_ratings.write \\\n",
    "    .option(\"createTableOptions\", \"ENGINE = MergeTree() ORDER BY (rating)\") \\\n",
    "    .mode(\"overwrite\") \\\n",
    "    .jdbc(url=clickhouse_url, table=\"extreme_ratings\", properties=clickhouse_props)\n"
   ]
  },
  {
   "cell_type": "markdown",
   "metadata": {},
   "source": [
    "\n",
    "- Корреляция между рейтингом и объемом продаж\n"
   ]
  },
  {
   "cell_type": "code",
   "execution_count": 108,
   "metadata": {},
   "outputs": [
    {
     "name": "stdout",
     "output_type": "stream",
     "text": [
      "+----------+------+--------------+\n",
      "|product_id|rating|total_quantity|\n",
      "+----------+------+--------------+\n",
      "|       148|   4.8|             8|\n",
      "|       463|   4.7|             5|\n",
      "|       471|   1.7|            10|\n",
      "|       496|   2.5|             2|\n",
      "|       833|   1.6|             8|\n",
      "+----------+------+--------------+\n",
      "only showing top 5 rows\n",
      "\n"
     ]
    }
   ],
   "source": [
    "rating_sales_corr = fact_sales.join(dim_product, \"product_id\") \\\n",
    "    .groupBy(\"product_id\", \"rating\") \\\n",
    "    .agg(functions.sum(fact_sales.quantity).alias(\"total_quantity\"))\n",
    "rating_sales_corr.show(5)\n",
    "rating_sales_corr.write \\\n",
    "    .option(\"createTableOptions\", \"ENGINE = MergeTree() ORDER BY (rating)\") \\\n",
    "    .mode(\"overwrite\") \\\n",
    "    .jdbc(url=clickhouse_url, table=\"rating_sales_corr\", properties=clickhouse_props)"
   ]
  },
  {
   "cell_type": "markdown",
   "metadata": {},
   "source": [
    "\n",
    "- Продукты с наибольшим количеством отзывов\n"
   ]
  },
  {
   "cell_type": "code",
   "execution_count": 109,
   "metadata": {},
   "outputs": [
    {
     "name": "stdout",
     "output_type": "stream",
     "text": [
      "+----------+---------+-------+\n",
      "|product_id|     name|reviews|\n",
      "+----------+---------+-------+\n",
      "|      4030|  Cat Toy|   1000|\n",
      "|       874| Dog Food|   1000|\n",
      "|      2387| Dog Food|   1000|\n",
      "|      9986|Bird Cage|   1000|\n",
      "|      7380|  Cat Toy|   1000|\n",
      "+----------+---------+-------+\n",
      "only showing top 5 rows\n",
      "\n"
     ]
    }
   ],
   "source": [
    "top_reviewed_products = dim_product.select(\"product_id\", \"name\", \"reviews\") \\\n",
    "    .orderBy(functions.desc(\"reviews\"))\n",
    "top_reviewed_products.show(5)\n",
    "top_reviewed_products.write \\\n",
    "    .option(\"createTableOptions\", \"ENGINE = MergeTree() ORDER BY (reviews)\") \\\n",
    "    .mode(\"overwrite\") \\\n",
    "    .jdbc(url=clickhouse_url, table=\"top_reviewed_products\", properties=clickhouse_props)\n"
   ]
  }
 ],
 "metadata": {
  "kernelspec": {
   "display_name": "Python 3 (ipykernel)",
   "language": "python",
   "name": "python3"
  },
  "language_info": {
   "codemirror_mode": {
    "name": "ipython",
    "version": 3
   },
   "file_extension": ".py",
   "mimetype": "text/x-python",
   "name": "python",
   "nbconvert_exporter": "python",
   "pygments_lexer": "ipython3",
   "version": "3.11.6"
  }
 },
 "nbformat": 4,
 "nbformat_minor": 2
}
